{
 "cells": [
  {
   "cell_type": "code",
   "execution_count": 1,
   "metadata": {},
   "outputs": [],
   "source": [
    "import matplotlib.pyplot as plt\n",
    "import numpy as np\n",
    "import pandas as pd\n",
    "import pandas_datareader as web\n",
    "from matplotlib.ticker import FuncFormatter"
   ]
  },
  {
   "cell_type": "code",
   "execution_count": 2,
   "metadata": {},
   "outputs": [
    {
     "name": "stdout",
     "output_type": "stream",
     "text": [
      "Collecting PyPortfolioOpt\n",
      "  Downloading PyPortfolioOpt-1.2.7-py3-none-any.whl (48 kB)\n",
      "\u001b[K     |████████████████████████████████| 48 kB 1.2 MB/s eta 0:00:011\n",
      "\u001b[?25hRequirement already satisfied: numpy<2.0,>=1.12 in /home/jorgelameira/anaconda3/lib/python3.8/site-packages (from PyPortfolioOpt) (1.19.5)\n",
      "Requirement already satisfied: scipy<2.0,>=1.3 in /home/jorgelameira/anaconda3/lib/python3.8/site-packages (from PyPortfolioOpt) (1.4.1)\n",
      "Requirement already satisfied: pandas>=0.19 in /home/jorgelameira/anaconda3/lib/python3.8/site-packages (from PyPortfolioOpt) (1.0.3)\n",
      "Collecting cvxopt<2.0,>=1.2\n",
      "  Downloading cvxopt-1.2.5-cp38-cp38-manylinux1_x86_64.whl (11.7 MB)\n",
      "\u001b[K     |████████████████████████████████| 11.7 MB 2.8 MB/s eta 0:00:01\n",
      "\u001b[?25hCollecting cvxpy<2.0,>=1.0\n",
      "  Downloading cvxpy-1.1.7.tar.gz (1.0 MB)\n",
      "\u001b[K     |████████████████████████████████| 1.0 MB 39.0 MB/s eta 0:00:01\n",
      "\u001b[?25h  Installing build dependencies ... \u001b[?25ldone\n",
      "\u001b[?25h  Getting requirements to build wheel ... \u001b[?25ldone\n",
      "\u001b[?25h    Preparing wheel metadata ... \u001b[?25ldone\n",
      "\u001b[?25hCollecting ecos>=2\n",
      "  Downloading ecos-2.0.7.post1.tar.gz (126 kB)\n",
      "\u001b[K     |████████████████████████████████| 126 kB 700 kB/s eta 0:00:01\n",
      "\u001b[?25hCollecting osqp>=0.4.1\n",
      "  Downloading osqp-0.6.2.post0-cp38-cp38-manylinux2014_x86_64.whl (215 kB)\n",
      "\u001b[K     |████████████████████████████████| 215 kB 712 kB/s eta 0:00:01\n",
      "\u001b[?25hRequirement already satisfied: python-dateutil>=2.6.1 in /home/jorgelameira/anaconda3/lib/python3.8/site-packages (from pandas>=0.19->PyPortfolioOpt) (2.8.1)\n",
      "Requirement already satisfied: pytz>=2017.2 in /home/jorgelameira/anaconda3/lib/python3.8/site-packages (from pandas>=0.19->PyPortfolioOpt) (2019.3)\n",
      "Requirement already satisfied: six>=1.5 in /home/jorgelameira/anaconda3/lib/python3.8/site-packages (from python-dateutil>=2.6.1->pandas>=0.19->PyPortfolioOpt) (1.15.0)\n",
      "Collecting scs>=1.1.6\n",
      "  Downloading scs-2.1.2.tar.gz (3.5 MB)\n",
      "\u001b[K     |████████████████████████████████| 3.5 MB 1.8 MB/s eta 0:00:01\n",
      "\u001b[?25hCollecting qdldl\n",
      "  Downloading qdldl-0.1.5.post0-cp38-cp38-manylinux2014_x86_64.whl (921 kB)\n",
      "\u001b[K     |████████████████████████████████| 921 kB 278 kB/s eta 0:00:01\n",
      "\u001b[?25hBuilding wheels for collected packages: cvxpy, ecos, scs\n",
      "  Building wheel for cvxpy (PEP 517) ... \u001b[?25ldone\n",
      "\u001b[?25h  Created wheel for cvxpy: filename=cvxpy-1.1.7-cp38-cp38-linux_x86_64.whl size=3748222 sha256=f058104c164ae2553f7619b6550510a8cb3bfa93134012ec83d8eca09ba48e47\n",
      "  Stored in directory: /home/jorgelameira/.cache/pip/wheels/51/a4/25/decef34c7e5328b040c66f7bc3ca49bd6a22dae43f0230e848\n",
      "  Building wheel for ecos (setup.py) ... \u001b[?25ldone\n",
      "\u001b[?25h  Created wheel for ecos: filename=ecos-2.0.7.post1-cp38-cp38-linux_x86_64.whl size=194874 sha256=6382c12b40cb7fa2c49c510df165c4495d99f5db1ab82ba473b746ed8f021e04\n",
      "  Stored in directory: /home/jorgelameira/.cache/pip/wheels/c3/c1/ce/b551b0b3a40c990e1da2ec9aecff62f7c2d43cab8766368e82\n",
      "  Building wheel for scs (setup.py) ... \u001b[?25ldone\n",
      "\u001b[?25h  Created wheel for scs: filename=scs-2.1.2-cp38-cp38-linux_x86_64.whl size=432492 sha256=b7aea8b694698a39dd3ded9154518155334f90696fba6cd815dfe89b281280b9\n",
      "  Stored in directory: /home/jorgelameira/.cache/pip/wheels/64/b7/4b/a5c555c1d94b8a25ac3f9da1bdd19ba9896f558d124de7d7ef\n",
      "Successfully built cvxpy ecos scs\n",
      "Installing collected packages: qdldl, scs, osqp, ecos, cvxpy, cvxopt, PyPortfolioOpt\n",
      "Successfully installed PyPortfolioOpt-1.2.7 cvxopt-1.2.5 cvxpy-1.1.7 ecos-2.0.7.post1 osqp-0.6.2.post0 qdldl-0.1.5.post0 scs-2.1.2\n",
      "\u001b[33mWARNING: You are using pip version 20.3.3; however, version 21.0 is available.\n",
      "You should consider upgrading via the '/home/jorgelameira/anaconda3/bin/python -m pip install --upgrade pip' command.\u001b[0m\n"
     ]
    }
   ],
   "source": [
    "# !pip install PyPortfolioOpt"
   ]
  },
  {
   "cell_type": "code",
   "execution_count": 32,
   "metadata": {},
   "outputs": [],
   "source": [
    "from pypfopt.efficient_frontier import EfficientFrontier\n",
    "from pypfopt import risk_models\n",
    "from pypfopt import expected_returns\n",
    "from pypfopt.cla import CLA\n",
    "from pypfopt import plotting as Plotting\n",
    "from pypfopt import discrete_allocation"
   ]
  },
  {
   "cell_type": "code",
   "execution_count": 12,
   "metadata": {},
   "outputs": [],
   "source": [
    "tickers = ['BSX','AES','BRK-B','SEE','QQQ','SPY']\n",
    "\n",
    "price_data = []\n",
    "\n",
    "for ticker in range(len(tickers)):\n",
    "    prices = web.DataReader(tickers[ticker], start=\"2018-01-01\", data_source=\"yahoo\")\n",
    "    prices = prices.assign(ticker=ticker)[[\"Adj Close\"]]\n",
    "    price_data.append(prices)\n",
    "\n",
    "df_stocks = pd.concat(price_data, axis=1)\n",
    "df_stocks.columns=tickers\n"
   ]
  },
  {
   "cell_type": "code",
   "execution_count": 13,
   "metadata": {},
   "outputs": [
    {
     "data": {
      "text/html": [
       "<div>\n",
       "<style scoped>\n",
       "    .dataframe tbody tr th:only-of-type {\n",
       "        vertical-align: middle;\n",
       "    }\n",
       "\n",
       "    .dataframe tbody tr th {\n",
       "        vertical-align: top;\n",
       "    }\n",
       "\n",
       "    .dataframe thead th {\n",
       "        text-align: right;\n",
       "    }\n",
       "</style>\n",
       "<table border=\"1\" class=\"dataframe\">\n",
       "  <thead>\n",
       "    <tr style=\"text-align: right;\">\n",
       "      <th></th>\n",
       "      <th>BSX</th>\n",
       "      <th>AES</th>\n",
       "      <th>BRK-B</th>\n",
       "      <th>SEE</th>\n",
       "      <th>QQQ</th>\n",
       "      <th>SPY</th>\n",
       "    </tr>\n",
       "    <tr>\n",
       "      <th>Date</th>\n",
       "      <th></th>\n",
       "      <th></th>\n",
       "      <th></th>\n",
       "      <th></th>\n",
       "      <th></th>\n",
       "      <th></th>\n",
       "    </tr>\n",
       "  </thead>\n",
       "  <tbody>\n",
       "    <tr>\n",
       "      <th>2018-01-02</th>\n",
       "      <td>25.280001</td>\n",
       "      <td>9.779798</td>\n",
       "      <td>197.220001</td>\n",
       "      <td>47.066479</td>\n",
       "      <td>154.995071</td>\n",
       "      <td>254.112717</td>\n",
       "    </tr>\n",
       "    <tr>\n",
       "      <th>2018-01-03</th>\n",
       "      <td>25.559999</td>\n",
       "      <td>9.770807</td>\n",
       "      <td>199.789993</td>\n",
       "      <td>47.104576</td>\n",
       "      <td>156.501114</td>\n",
       "      <td>255.719986</td>\n",
       "    </tr>\n",
       "    <tr>\n",
       "      <th>2018-01-04</th>\n",
       "      <td>25.320000</td>\n",
       "      <td>9.734852</td>\n",
       "      <td>200.690002</td>\n",
       "      <td>47.209347</td>\n",
       "      <td>156.774933</td>\n",
       "      <td>256.797821</td>\n",
       "    </tr>\n",
       "    <tr>\n",
       "      <th>2018-01-05</th>\n",
       "      <td>25.969999</td>\n",
       "      <td>9.770807</td>\n",
       "      <td>201.419998</td>\n",
       "      <td>47.066479</td>\n",
       "      <td>158.349411</td>\n",
       "      <td>258.509186</td>\n",
       "    </tr>\n",
       "    <tr>\n",
       "      <th>2018-01-08</th>\n",
       "      <td>25.809999</td>\n",
       "      <td>9.770807</td>\n",
       "      <td>202.740005</td>\n",
       "      <td>47.276005</td>\n",
       "      <td>158.965546</td>\n",
       "      <td>258.981873</td>\n",
       "    </tr>\n",
       "    <tr>\n",
       "      <th>...</th>\n",
       "      <td>...</td>\n",
       "      <td>...</td>\n",
       "      <td>...</td>\n",
       "      <td>...</td>\n",
       "      <td>...</td>\n",
       "      <td>...</td>\n",
       "    </tr>\n",
       "    <tr>\n",
       "      <th>2021-01-15</th>\n",
       "      <td>36.330002</td>\n",
       "      <td>27.600000</td>\n",
       "      <td>233.490005</td>\n",
       "      <td>44.400002</td>\n",
       "      <td>311.859985</td>\n",
       "      <td>375.700012</td>\n",
       "    </tr>\n",
       "    <tr>\n",
       "      <th>2021-01-19</th>\n",
       "      <td>36.270000</td>\n",
       "      <td>28.059999</td>\n",
       "      <td>234.550003</td>\n",
       "      <td>43.220001</td>\n",
       "      <td>316.410004</td>\n",
       "      <td>378.649994</td>\n",
       "    </tr>\n",
       "    <tr>\n",
       "      <th>2021-01-20</th>\n",
       "      <td>36.660000</td>\n",
       "      <td>28.020000</td>\n",
       "      <td>234.759995</td>\n",
       "      <td>44.560001</td>\n",
       "      <td>323.769989</td>\n",
       "      <td>383.890015</td>\n",
       "    </tr>\n",
       "    <tr>\n",
       "      <th>2021-01-21</th>\n",
       "      <td>37.520000</td>\n",
       "      <td>27.280001</td>\n",
       "      <td>234.160004</td>\n",
       "      <td>45.150002</td>\n",
       "      <td>326.359985</td>\n",
       "      <td>384.239990</td>\n",
       "    </tr>\n",
       "    <tr>\n",
       "      <th>2021-01-22</th>\n",
       "      <td>37.029999</td>\n",
       "      <td>27.100000</td>\n",
       "      <td>232.919998</td>\n",
       "      <td>45.500000</td>\n",
       "      <td>325.420013</td>\n",
       "      <td>382.880005</td>\n",
       "    </tr>\n",
       "  </tbody>\n",
       "</table>\n",
       "<p>770 rows × 6 columns</p>\n",
       "</div>"
      ],
      "text/plain": [
       "                  BSX        AES       BRK-B        SEE         QQQ  \\\n",
       "Date                                                                  \n",
       "2018-01-02  25.280001   9.779798  197.220001  47.066479  154.995071   \n",
       "2018-01-03  25.559999   9.770807  199.789993  47.104576  156.501114   \n",
       "2018-01-04  25.320000   9.734852  200.690002  47.209347  156.774933   \n",
       "2018-01-05  25.969999   9.770807  201.419998  47.066479  158.349411   \n",
       "2018-01-08  25.809999   9.770807  202.740005  47.276005  158.965546   \n",
       "...               ...        ...         ...        ...         ...   \n",
       "2021-01-15  36.330002  27.600000  233.490005  44.400002  311.859985   \n",
       "2021-01-19  36.270000  28.059999  234.550003  43.220001  316.410004   \n",
       "2021-01-20  36.660000  28.020000  234.759995  44.560001  323.769989   \n",
       "2021-01-21  37.520000  27.280001  234.160004  45.150002  326.359985   \n",
       "2021-01-22  37.029999  27.100000  232.919998  45.500000  325.420013   \n",
       "\n",
       "                   SPY  \n",
       "Date                    \n",
       "2018-01-02  254.112717  \n",
       "2018-01-03  255.719986  \n",
       "2018-01-04  256.797821  \n",
       "2018-01-05  258.509186  \n",
       "2018-01-08  258.981873  \n",
       "...                ...  \n",
       "2021-01-15  375.700012  \n",
       "2021-01-19  378.649994  \n",
       "2021-01-20  383.890015  \n",
       "2021-01-21  384.239990  \n",
       "2021-01-22  382.880005  \n",
       "\n",
       "[770 rows x 6 columns]"
      ]
     },
     "execution_count": 13,
     "metadata": {},
     "output_type": "execute_result"
    }
   ],
   "source": [
    "df_stocks"
   ]
  },
  {
   "cell_type": "code",
   "execution_count": 17,
   "metadata": {},
   "outputs": [
    {
     "data": {
      "text/plain": [
       "(BSX      0\n",
       " AES      0\n",
       " BRK-B    0\n",
       " SEE      0\n",
       " QQQ      0\n",
       " SPY      0\n",
       " dtype: int64,\n",
       " BSX      0\n",
       " AES      0\n",
       " BRK-B    0\n",
       " SEE      0\n",
       " QQQ      0\n",
       " SPY      0\n",
       " dtype: int64)"
      ]
     },
     "execution_count": 17,
     "metadata": {},
     "output_type": "execute_result"
    }
   ],
   "source": [
    "df_stocks.isnull().sum(), df_stocks.isna().sum()"
   ]
  },
  {
   "cell_type": "code",
   "execution_count": 35,
   "metadata": {},
   "outputs": [],
   "source": [
    "mu = expected_returns.mean_historical_return(df_stocks)"
   ]
  },
  {
   "cell_type": "code",
   "execution_count": 36,
   "metadata": {},
   "outputs": [],
   "source": [
    "sigma = risk_models.sample_cov(df_stocks)"
   ]
  },
  {
   "cell_type": "code",
   "execution_count": 37,
   "metadata": {},
   "outputs": [],
   "source": [
    "ef = EfficientFrontier(mu, sigma, weight_bounds=(-1, 1))"
   ]
  },
  {
   "cell_type": "code",
   "execution_count": 38,
   "metadata": {},
   "outputs": [],
   "source": [
    "sharpe = ef.max_sharpe()"
   ]
  },
  {
   "cell_type": "code",
   "execution_count": 39,
   "metadata": {},
   "outputs": [],
   "source": [
    "minvol_pwt = ef.clean_weights()"
   ]
  },
  {
   "cell_type": "code",
   "execution_count": 40,
   "metadata": {},
   "outputs": [
    {
     "name": "stdout",
     "output_type": "stream",
     "text": [
      "OrderedDict([('BSX', -0.13149), ('AES', 1.0), ('BRK-B', -0.96468), ('SEE', -0.5035), ('QQQ', 1.0), ('SPY', 0.59967)])\n"
     ]
    }
   ],
   "source": [
    "print(sharpe_pwt)"
   ]
  },
  {
   "cell_type": "code",
   "execution_count": 41,
   "metadata": {},
   "outputs": [],
   "source": [
    "latest_prices = discrete_allocation.get_latest_prices(df_stocks)"
   ]
  },
  {
   "cell_type": "code",
   "execution_count": 42,
   "metadata": {},
   "outputs": [],
   "source": [
    "allocation_minv, rem_minv = discrete_allocation.DiscreteAllocation(minvol_pwt, latest_prices, total_portfolio_value=1000000).lp_portfolio()"
   ]
  },
  {
   "cell_type": "code",
   "execution_count": 51,
   "metadata": {},
   "outputs": [
    {
     "data": {
      "text/plain": [
       "({'AES': 14195,\n",
       "  'QQQ': 1182,\n",
       "  'SPY': 602,\n",
       "  'BSX': -664,\n",
       "  'BRK-B': -777,\n",
       "  'SEE': -2075},\n",
       " 196.01800727844238)"
      ]
     },
     "execution_count": 51,
     "metadata": {},
     "output_type": "execute_result"
    }
   ],
   "source": [
    "allocation_minv, rem_minv"
   ]
  },
  {
   "cell_type": "code",
   "execution_count": 45,
   "metadata": {},
   "outputs": [
    {
     "name": "stdout",
     "output_type": "stream",
     "text": [
      "Expected annual return: 69.2%\n",
      "Annual volatility: 42.9%\n",
      "Sharpe Ratio: -0.95\n"
     ]
    },
    {
     "data": {
      "text/plain": [
       "(0.6918806855084072, 0.4290901728318139, -0.9511271530601081)"
      ]
     },
     "execution_count": 45,
     "metadata": {},
     "output_type": "execute_result"
    }
   ],
   "source": [
    "ef.portfolio_performance(verbose=True, risk_free_rate = 1.10)"
   ]
  },
  {
   "cell_type": "code",
   "execution_count": 48,
   "metadata": {},
   "outputs": [
    {
     "data": {
      "image/png": "[encoded data removed]",
      "text/plain": [
       "<Figure size 432x288 with 1 Axes>"
      ]
     },
     "metadata": {
      "needs_background": "light"
     },
     "output_type": "display_data"
    }
   ],
   "source": [
    "cl_obj = CLA(mu, sigma)\n",
    "ax = Plotting.plot_efficient_frontier(cl_obj, showfig = False)\n",
    "ax.xaxis.set_major_formatter(FuncFormatter(lambda x, _: '{:.0%}'.format(x)))\n",
    "ax.yaxis.set_major_formatter(FuncFormatter(lambda y, _: '{:.0%}'.format(y)))"
   ]
  },
  {
   "cell_type": "code",
   "execution_count": 49,
   "metadata": {},
   "outputs": [
    {
     "name": "stdout",
     "output_type": "stream",
     "text": [
      "{'AES': 14195, 'QQQ': 1182, 'SPY': 602, 'BSX': -664, 'BRK-B': -777, 'SEE': -2075}\n",
      "Leftover Fund value in$ after building minimum volatility portfolio is $196.02\n"
     ]
    }
   ],
   "source": [
    "print(allocation_minv)\n",
    "print(\"Leftover Fund value in$ after building minimum volatility portfolio is ${:.2f}\".format(rem_minv))"
   ]
  },
  {
   "cell_type": "code",
   "execution_count": null,
   "metadata": {},
   "outputs": [],
   "source": []
  }
 ],
 "metadata": {
  "kernelspec": {
   "display_name": "Python 3",
   "language": "python",
   "name": "python3"
  },
  "language_info": {
   "codemirror_mode": {
    "name": "ipython",
    "version": 3
   },
   "file_extension": ".py",
   "mimetype": "text/x-python",
   "name": "python",
   "nbconvert_exporter": "python",
   "pygments_lexer": "ipython3",
   "version": "3.8.3"
  }
 },
 "nbformat": 4,
 "nbformat_minor": 4
}
